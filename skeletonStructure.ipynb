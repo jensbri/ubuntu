{
 "cells": [
  {
   "cell_type": "markdown",
   "metadata": {},
   "source": [
    "# Import needed libraries\n",
    "- `pandas`\n",
    "- `geopandas`"
   ]
  },
  {
   "cell_type": "code",
   "execution_count": null,
   "metadata": {},
   "outputs": [],
   "source": [
    "import geopandas as gpd\n",
    "import pandas as pd"
   ]
  },
  {
   "cell_type": "markdown",
   "metadata": {},
   "source": [
    "# Import the SA2 and *map outlines*\n",
    "- there are various ways of doing this\n",
    "  - we can go to the [website](https://datafinder.stats.govt.nz/layer/106728-statistical-area-2-2022-generalised/) and press the download button\n",
    "  ![image.png](Data2024Assets/DownloadSA2Website.jpg) \n",
    "  - we can use command-line tools directly from here, such as  `wget` or `curl` to download the data \n",
    "  - here, we will download the data `wget` from a GitHub repository that hosts an optimised derivative of the original data set"
   ]
  },
  {
   "cell_type": "code",
   "execution_count": null,
   "metadata": {},
   "outputs": [],
   "source": [
    "!wget \"https://github.com/UoA-eResearch/SA2_2022_population/raw/main/statistical-area-2-2023-generalised_simplified_22.3%25.zip\""
   ]
  },
  {
   "cell_type": "markdown",
   "metadata": {},
   "source": [
    "## Let's have a look at the dataset we just downloaded"
   ]
  },
  {
   "cell_type": "code",
   "execution_count": null,
   "metadata": {},
   "outputs": [],
   "source": [
    "sa2 = gpd.read_file(\"statistical-area-2-2023-generalised_simplified_22.3%.zip\").dropna(subset=\"geometry\")\n",
    "sa2"
   ]
  },
  {
   "cell_type": "markdown",
   "metadata": {},
   "source": [
    "We do not want to include the Chatam Islands, as they are not part of the main landmass of New Zealand and only under 800 people live there.\n",
    "\n",
    "![alt](https://upload.wikimedia.org/wikipedia/commons/thumb/2/2c/Chatham_Islands_in_New_Zealand_%28zoom%29.svg/520px-Chatham_Islands_in_New_Zealand_%28zoom%29.svg.png)"
   ]
  },
  {
   "cell_type": "code",
   "execution_count": null,
   "metadata": {},
   "outputs": [],
   "source": [
    "sa2 = sa2[(sa2.SA22023__1 != \"Chatham Islands\") & (sa2.LAND_AREA_ > 0)].copy()\n",
    "sa2"
   ]
  },
  {
   "cell_type": "markdown",
   "metadata": {},
   "source": [
    "# Import the population Dataset"
   ]
  },
  {
   "cell_type": "markdown",
   "metadata": {},
   "source": [
    "Similarly, we download the dataset"
   ]
  },
  {
   "cell_type": "code",
   "execution_count": null,
   "metadata": {},
   "outputs": [],
   "source": [
    "!wget \"https://raw.githubusercontent.com/UoA-eResearch/SA2_2022_population/main/population_by_SA2.csv\""
   ]
  },
  {
   "cell_type": "code",
   "execution_count": null,
   "metadata": {},
   "outputs": [],
   "source": [
    "population = pd.read_csv(\"population_by_SA2.csv\")\n",
    "population"
   ]
  },
  {
   "cell_type": "markdown",
   "metadata": {},
   "source": [
    "The following is one example of how we can clean our two dataframes\n",
    "- the outline (`sa2` dataframe) has the column `SA22023_V1` with one example value of `100100`\n",
    "- our population file has the column `Area` with an example value of `100100 North Cape`\n",
    "How to merge these?\n",
    "We could try several manual approaches or counting (the first 6 digits, etc)\n",
    "\n",
    "But:\n",
    "- we use something called [Regex](https://en.wikipedia.org/wiki/Regular_expression) or Regular Expression\n",
    "- keeping the scope of this session in mind, think of it as a defined set of rules that we can apply to a string to find/match things\n",
    "\n",
    "\n",
    "  ``` \n",
    "  r'(\\d+)': This is a raw string containing a regular expression.\n",
    "  \\d: Matches any digit (0-9).\n",
    "  +: Matches one or more of the preceding element (in this case, one or more digits).\n",
    "  (): Capturing group, indicating that we want to extract the digits.\n",
    "  ```\n",
    "- by using this, we can extract digits (any number of them greater 0) from a string\n",
    "- and we put them together in one `capture group`"
   ]
  },
  {
   "cell_type": "code",
   "execution_count": null,
   "metadata": {},
   "outputs": [],
   "source": [
    "# Extract ID from Area col and adding this to a new column on the right called 'SA2'\n",
    "population['SA2'] = population['Area'].str.extract(r'(\\d+)')\n",
    "population"
   ]
  },
  {
   "cell_type": "code",
   "execution_count": null,
   "metadata": {},
   "outputs": [],
   "source": [
    "# Add a prefix to the right dataframe's columns (excluding the merge key)\n",
    "prefix = 'population_in_year_'\n",
    "population= population.rename(columns={col: prefix + col for col in population.columns[1:10]})\n",
    "population"
   ]
  },
  {
   "cell_type": "markdown",
   "metadata": {},
   "source": [
    "# Ready, steady: Merge... Wait...\n",
    "\n",
    "- OK, almost there\n",
    "- Let's wait again\n",
    "- How to merge the two datasets and how to make sure that the right data is in the right place?\n",
    "- In other words: How can we explicitly state that we want to look for the column `SA22023_V1` in the `SA2` dataset and the column we named `SA2` in the `population]` dataset?\n",
    "- By specifying it!"
   ]
  },
  {
   "cell_type": "code",
   "execution_count": null,
   "metadata": {},
   "outputs": [],
   "source": [
    "sa2 = sa2.merge(population, left_on='SA22023_V1', right_on='SA2')\n",
    "sa2"
   ]
  },
  {
   "cell_type": "markdown",
   "metadata": {},
   "source": [
    "# Let's map"
   ]
  },
  {
   "cell_type": "code",
   "execution_count": null,
   "metadata": {},
   "outputs": [],
   "source": [
    "m = sa2.explore(\"population_in_year_2022\", legend=True)\n",
    "m.save(\"index_folium.html\")\n",
    "m"
   ]
  },
  {
   "cell_type": "markdown",
   "metadata": {},
   "source": [
    "It is likely that you will get an error such as:\n",
    "\n",
    "*ImportError: The 'folium', 'matplotlib' and 'mapclassify' packages are required for 'explore()'*\n",
    "\n",
    "We know what to do: `pip install` these"
   ]
  },
  {
   "cell_type": "markdown",
   "metadata": {},
   "source": [
    "# Next steps:\n",
    "- `pip freeze > requirements.txt` and inspect that file\n",
    "- set GH repo up and publish"
   ]
  },
  {
   "cell_type": "markdown",
   "metadata": {},
   "source": []
  }
 ],
 "metadata": {
  "kernelspec": {
   "display_name": "Python 3",
   "language": "python",
   "name": "python3"
  },
  "language_info": {
   "codemirror_mode": {
    "name": "ipython",
    "version": 3
   },
   "file_extension": ".py",
   "mimetype": "text/x-python",
   "name": "python",
   "nbconvert_exporter": "python",
   "pygments_lexer": "ipython3",
   "version": "3.10.12"
  }
 },
 "nbformat": 4,
 "nbformat_minor": 2
}
